{
 "cells": [
  {
   "cell_type": "code",
   "execution_count": null,
   "id": "191c637e",
   "metadata": {},
   "outputs": [],
   "source": []
  }
 ],
 "metadata": {
  "kernelspec": {
   "display_name": "machinethinks",
   "language": "python",
   "name": "machinethinks"
  }
 },
 "nbformat": 4,
 "nbformat_minor": 5
}
