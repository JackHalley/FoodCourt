{
 "cells": [
  {
   "cell_type": "code",
   "execution_count": null,
   "id": "7ecdc257",
   "metadata": {},
   "outputs": [],
   "source": [
    "print(\"hello\")"
   ]
  },
  {
   "cell_type": "code",
   "execution_count": null,
   "id": "8f2fbcc6",
   "metadata": {},
   "outputs": [],
   "source": []
  }
 ],
 "metadata": {
  "kernelspec": {
   "display_name": "pythonsql",
   "language": "python",
   "name": "pythonsql"
  }
 },
 "nbformat": 4,
 "nbformat_minor": 5
}
