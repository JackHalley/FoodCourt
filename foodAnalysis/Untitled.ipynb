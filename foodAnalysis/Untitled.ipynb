{
 "cells": [
  {
   "cell_type": "code",
   "execution_count": null,
   "id": "7c17c46b",
   "metadata": {},
   "outputs": [],
   "source": []
  }
 ],
 "metadata": {
  "kernelspec": {
   "display_name": "machinethinks",
   "language": "python",
   "name": "machinethinks"
  }
 },
 "nbformat": 4,
 "nbformat_minor": 5
}
